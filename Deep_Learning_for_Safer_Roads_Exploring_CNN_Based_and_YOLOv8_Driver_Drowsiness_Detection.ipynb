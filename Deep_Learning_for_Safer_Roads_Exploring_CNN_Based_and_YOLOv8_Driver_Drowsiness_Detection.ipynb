{
  "nbformat": 4,
  "nbformat_minor": 0,
  "metadata": {
    "colab": {
      "provenance": [],
      "gpuType": "T4"
    },
    "kernelspec": {
      "name": "python3",
      "display_name": "Python 3"
    },
    "language_info": {
      "name": "python"
    },
    "accelerator": "GPU"
  },
  "cells": [
    {
      "cell_type": "markdown",
      "source": [
        "# **Deep Learning for Safer Roads: Exploring CNN-Based and YOLOv8 Driver Drowsiness Detection**\n",
        "\n",
        "This notebook delves into the application of advanced deep learning techniques to tackle a critical challenge in road safety: detecting driver drowsiness in real-time. By leveraging the **Driver Drowsiness Dataset (DDD)**, this project explores two promising approaches: **CNN-based models with Transfer Learning** and **YOLOv8 integrated with Roboflow**. Both techniques offer unique advantages, and this analysis aims to compare their effectiveness in building an accurate and efficient system for preventing fatigue-related accidents.\n",
        "\n",
        "## **Introduction**\n",
        "Driver fatigue is a significant contributor to road accidents worldwide, with drowsiness impairing reaction times and decision-making capabilities. Detecting such states in real-time provides a proactive approach to mitigating these risks. The **Driver Drowsiness Dataset (DDD)** offers a rich collection of RGB images of drivers, categorized into **Drowsy** and **Non-Drowsy** states. This dataset was created by extracting facial regions from real-life driving videos using the Viola-Jones algorithm, followed by preprocessing into images suitable for deep learning models.\n",
        "\n",
        "In this project, we will examine two different methodologies for driver drowsiness detection: **CNN-based models with Transfer Learning** (such as MobileNetV2) and **YOLOv8 with Roboflow**. Each approach will be evaluated for its accuracy, efficiency, and real-time deployment potential.\n",
        "\n",
        "## **Convolutional Neural Networks (CNNs) for Image Analysis**\n",
        "\n",
        "**Convolutional Neural Networks (CNNs)** are a cornerstone in modern image recognition due to their ability to automatically learn spatial hierarchies of features from raw image data. CNNs are particularly effective for tasks such as facial state detection, which makes them ideal for identifying drowsy versus alert states in drivers. Key components of CNNs include:\n",
        "1. **Convolution Layers**: These layers automatically extract essential features from the input images, such as edges and textures.\n",
        "2. **Pooling Layers**: By reducing the spatial dimensions of the data, pooling helps improve computational efficiency and prevent overfitting.\n",
        "3. **Fully Connected Layers**: These layers map the learned features to output labels, enabling the classification task.\n",
        "\n",
        "CNNs have proven to be highly effective in many image-based tasks, including object detection and facial recognition, which makes them a great fit for analyzing driver facial states in this project.\n",
        "\n",
        "## **MobileNetV2: An Optimized Solution for Real-Time Applications**\n",
        "\n",
        "**MobileNetV2** is a modern convolutional architecture optimized for use in resource-constrained environments, such as mobile and embedded devices. This architecture provides a significant advantage in real-time applications, especially for systems deployed in vehicles. Key features that make MobileNetV2 suitable for this project include:\n",
        "1. **Depthwise Separable Convolutions**: These reduce the computational cost by breaking down standard convolutions into simpler operations, improving efficiency while maintaining performance.\n",
        "2. **Inverted Residuals with Linear Bottlenecks**: This design enhances information flow and reduces the model’s parameter count, making it suitable for real-time processing.\n",
        "3. **Compact and Efficient Design**: MobileNetV2 delivers high accuracy while maintaining a small model size, making it ideal for applications where speed and low computational overhead are critical.\n",
        "\n",
        "The lightweight design of MobileNetV2 makes it a strong candidate for deployment in real-time driver monitoring systems, where computational efficiency is key.\n",
        "\n",
        "## **YOLOv8 with Roboflow for Real-Time Object Detection**\n",
        "\n",
        "**YOLOv8 (You Only Look Once)** is a state-of-the-art object detection model that offers unparalleled speed and accuracy, making it perfect for real-time applications. When integrated with **Roboflow**, a platform that simplifies dataset preparation and model deployment, YOLOv8 becomes even more powerful for the task of detecting drowsiness in drivers. Benefits of using YOLOv8 with Roboflow include:\n",
        "1. **Real-Time Detection and Localization**: YOLOv8 excels in both detecting and localizing objects, such as facial features, in real-time, making it ideal for driver monitoring.\n",
        "2. **Comprehensive Object Detection**: YOLOv8 is capable of detecting multiple objects within a single frame, providing detailed insights into the driver's state.\n",
        "3. **Streamlined Workflow**: Roboflow simplifies data annotation, augmentation, and deployment, offering an efficient pipeline for real-world applications.\n",
        "\n",
        "This approach is particularly useful for applications that require fast and accurate detection in dynamic, real-time environments like vehicles.\n",
        "\n",
        "## **Dataset Overview**\n",
        "The **Driver Drowsiness Dataset (DDD)** serves as the foundation for training and testing both models:\n",
        "- **Image Format**: RGB images with detailed facial features.\n",
        "- **Classes**: **Drowsy** and **Non-Drowsy**.\n",
        "- **Resolution**: 227 x 227 pixels, optimized for deep learning tasks.\n",
        "- **Dataset Size**: Over 41,790 labeled images.\n",
        "- **File Size**: Approximately 2.32 GB.\n",
        "\n",
        "This dataset has been widely used in research, such as in the paper *“Detection and Prediction of Driver Drowsiness for the Prevention of Road Accidents Using Deep Neural Networks Techniques”* (DOI: [10.1007/978-981-33-6893-4_6](https://doi.org/10.1007/978-981-33-6893-4_6)).\n",
        "\n",
        "## **Project Objectives**\n",
        "The primary objectives of this project are:\n",
        "1. **Evaluate both approaches**—CNN-based transfer learning models and YOLOv8 with Roboflow—for their ability to detect drowsy drivers.\n",
        "2. **Compare performance** using metrics like accuracy, precision, recall, and F1-score.\n",
        "3. **Optimize the models for real-time deployment**, ensuring they can be effectively integrated into vehicle monitoring systems.\n",
        "\n",
        "## **Methodology**\n",
        "This project will be carried out in several phases:\n",
        "1. **Data Preprocessing**:\n",
        "   - Normalize pixel values and augment data to enhance model generalization.\n",
        "   - Split the dataset into training, validation, and testing sets.\n",
        "2. **Model Development**:\n",
        "   - Train a baseline CNN and implement **MobileNetV2** for transfer learning.\n",
        "   - Train **YOLOv8** using Roboflow for real-time object detection and localization.\n",
        "3. **Evaluation and Comparison**:\n",
        "   - Assess the performance of each model using key metrics.\n",
        "   - Compare the models' strengths in terms of speed, accuracy, and real-time feasibility.\n",
        "4. **Real-Time Testing**:\n",
        "   - Simulate real-world conditions to test the models’ responsiveness and deployment potential.\n",
        "\n",
        "## **Significance**\n",
        "This project represents a significant step toward improving road safety by leveraging AI to detect driver fatigue. By evaluating and comparing different deep learning approaches, this research aims to determine the most effective model for preventing fatigue-related accidents, ultimately contributing to safer roads for all.\n",
        "\n",
        "Let’s dive into these innovative approaches and explore their potential for enhancing road safety!\n",
        "\n"
      ],
      "metadata": {
        "id": "eUjA4uDdfIjs"
      }
    },
    {
      "cell_type": "markdown",
      "source": [
        "## **Comparing Approaches: CNN + Transfer Learning vs YOLOv8 with Roboflow**\n",
        "\n",
        "When tackling driver drowsiness detection, two advanced approaches emerge as key contenders: **CNN with Transfer Learning** and **YOLOv8 combined with Roboflow**. Below is a comprehensive comparison of their strengths and weaknesses for this critical task.\n",
        "\n",
        "### **1. CNN + Transfer Learning: Simplicity Meets Power**\n",
        "\n",
        "This method leverages pre-trained convolutional neural networks (e.g., MobileNetV2) for classifying driver states as drowsy or non-drowsy based on facial images.\n",
        "\n",
        "#### **Why Choose CNN + Transfer Learning?**\n",
        "- **Straightforward Setup**: Quick to implement and fine-tune using tools like TensorFlow or PyTorch.\n",
        "- **Pre-Trained Knowledge**: Reduces training time by building on existing models.\n",
        "- **Effective for Small Data**: Delivers solid performance even with limited datasets.\n",
        "- **Customizable**: Tailor the final layers to your specific classification needs.\n",
        "\n",
        "#### **The Drawbacks**\n",
        "- **No Object Localization**: Focuses only on classification, not detecting multiple features in an image.\n",
        "- **Real-Time Limitations**: Requires preprocessing (e.g., cropping faces), which adds latency.\n",
        "- **Scalability Issues**: Performance may drop when handling high-resolution data or large datasets.\n",
        "\n",
        "### **2. YOLOv8 + Roboflow: Real-Time Detection on Steroids**\n",
        "\n",
        "YOLOv8 (You Only Look Once) is a state-of-the-art object detection model designed for speed, and Roboflow enhances its capabilities with seamless data preparation and deployment.\n",
        "\n",
        "#### **Why YOLOv8 + Roboflow Stands Out**\n",
        "- **Lightning-Fast Performance**: Perfect for real-time applications with minimal delay.\n",
        "- **All-in-One Solution**: Detects and classifies in a single pipeline, skipping the need for separate preprocessing.\n",
        "- **Robust Localization**: Pinpoints multiple objects (e.g., faces, eyes, or contextual features) simultaneously.\n",
        "- **Streamlined Workflow**: Roboflow simplifies dataset annotation, augmentation, and deployment.\n",
        "\n",
        "#### **Potential Pitfalls**\n",
        "- **Resource Heavy**: Demands significant computational power for training and real-time use.\n",
        "- **Higher Complexity**: Requires more expertise to fine-tune, especially for custom datasets.\n",
        "- **Time-Intensive Annotations**: Needs a well-labeled dataset for accurate detection.\n",
        "\n",
        "### **Key Differences: A Side-by-Side Comparison**\n",
        "\n",
        "| **Aspect**                | **CNN + Transfer Learning**                     | **YOLOv8 + Roboflow**                         |\n",
        "|---------------------------|------------------------------------------------|----------------------------------------------|\n",
        "| **Primary Goal**          | Classification of drowsy vs. non-drowsy states | Real-time detection and localization         |\n",
        "| **Real-Time Suitability** | Limited due to preprocessing latency           | Highly optimized for real-time applications  |\n",
        "| **Ease of Use**           | Beginner-friendly and quick to set up          | More complex but streamlined with Roboflow   |\n",
        "| **Dataset Needs**         | Performs well with smaller datasets            | Requires detailed annotations and larger datasets |\n",
        "| **Performance Focus**     | High classification accuracy                   | Balances speed and detection accuracy        |\n",
        "| **Hardware Requirements** | Moderate (suitable for CPUs or mid-tier GPUs)  | High (best for powerful GPUs)                |\n",
        "\n",
        "---\n",
        "\n",
        "### **Which Approach Should You Choose?**\n",
        "\n",
        "- Opt for **CNN + Transfer Learning** if:\n",
        "  - You’re focused on image classification without requiring object localization.\n",
        "  - Your dataset is small and lacks detailed annotations.\n",
        "  - You’re working with limited hardware or don’t need real-time detection.\n",
        "\n",
        "- Go with **YOLOv8 + Roboflow** if:\n",
        "  - Real-time detection and localization are essential for your application.\n",
        "  - You have access to robust hardware and a well-annotated dataset.\n",
        "  - You need an end-to-end system that combines detection and classification seamlessly.\n",
        "\n",
        "---\n",
        "\n",
        "Both methods are powerful tools for driver drowsiness detection, but the best choice depends on your project’s goals, constraints, and available resources.\n"
      ],
      "metadata": {
        "id": "9B_iCMTJj2u8"
      }
    },
    {
      "cell_type": "markdown",
      "source": [
        "## **Leveraging Transfer Learning with MobileNetV2 for CNN-Based Driver Drowsiness Detection**\n"
      ],
      "metadata": {
        "id": "KZkdKLl3l5-N"
      }
    },
    {
      "cell_type": "markdown",
      "source": [
        "## **Tools and Libraries Overview**\n",
        "\n",
        "This project integrates various tools and libraries to streamline data processing, model training, and evaluation:\n",
        "\n",
        "- **os**: Handles file system operations, such as managing dataset directories and paths.\n",
        "- **pandas** and **numpy**: Facilitate data manipulation, exploration, and numerical computations essential for preprocessing and analysis.\n",
        "- **matplotlib.pyplot** and **seaborn**: Enable clear and insightful data visualization, from basic plots to advanced statistical graphics like heatmaps.\n",
        "\n",
        "For the machine learning pipeline, **TensorFlow** and **Keras** are used to design and train deep learning models. These frameworks provide powerful tools to build and customize architectures, such as **MobileNetV2**, a lightweight CNN optimized for efficiency and suitable for real-time applications. Additional layers, like **Dense** and **Flatten**, are included for feature extraction and classification.\n",
        "\n",
        "To enhance training, optimizers such as **Adam** and **SGD** are employed for efficient weight updates. The **ImageDataGenerator** tool helps preprocess images and apply augmentations, improving the model's generalization ability.\n",
        "\n",
        "Finally, performance evaluation relies on metrics like **confusion_matrix** and **classification_report** to assess accuracy, precision, recall, and F1-score. Utilities like **Counter** analyze class distributions, while **tf.random.set_seed** ensures reproducibility of results across experiments.\n",
        "\n",
        "These components work together to build a reliable driver drowsiness detection system.\n",
        "\n"
      ],
      "metadata": {
        "id": "ukRpFeB5f9WP"
      }
    },
    {
      "cell_type": "code",
      "source": [
        "import os\n",
        "import pandas as pd\n",
        "import numpy as np\n",
        "import matplotlib.pyplot as  plt\n",
        "import tensorflow as tf\n",
        "from tensorflow import keras\n",
        "from sklearn.metrics import confusion_matrix\n",
        "from sklearn.metrics import classification_report\n",
        "import seaborn as sns\n",
        "tf.random.set_seed(3)\n",
        "from tensorflow.keras.preprocessing.image import ImageDataGenerator\n",
        "from tensorflow.keras.optimizers import Adam\n",
        "from tensorflow.keras.losses import SparseCategoricalCrossentropy\n",
        "from tensorflow.keras.applications import MobileNetV2\n",
        "from tensorflow.keras.layers import Dense, Flatten\n",
        "from tensorflow.keras.models import Model\n",
        "from tensorflow.keras.optimizers import Adam, SGD\n",
        "from collections import Counter"
      ],
      "metadata": {
        "id": "DCbhOdsOf9dx"
      },
      "execution_count": 1,
      "outputs": []
    },
    {
      "cell_type": "markdown",
      "source": [],
      "metadata": {
        "id": "u3KMc_zDhQfH"
      }
    },
    {
      "cell_type": "code",
      "source": [
        "!pip install split-folders"
      ],
      "metadata": {
        "colab": {
          "base_uri": "https://localhost:8080/"
        },
        "id": "SqWUrJ3bhQnW",
        "outputId": "d2cd263a-c24e-417e-aa31-6095aba9d31f"
      },
      "execution_count": 2,
      "outputs": [
        {
          "output_type": "stream",
          "name": "stdout",
          "text": [
            "Collecting split-folders\n",
            "  Downloading split_folders-0.5.1-py3-none-any.whl.metadata (6.2 kB)\n",
            "Downloading split_folders-0.5.1-py3-none-any.whl (8.4 kB)\n",
            "Installing collected packages: split-folders\n",
            "Successfully installed split-folders-0.5.1\n"
          ]
        }
      ]
    }
  ]
}